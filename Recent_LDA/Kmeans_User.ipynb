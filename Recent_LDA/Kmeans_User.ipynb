{
 "cells": [
  {
   "cell_type": "code",
   "execution_count": 2,
   "metadata": {
    "collapsed": false
   },
   "outputs": [],
   "source": [
    "import numpy as np\n",
    "import pickle \n",
    "\n",
    "vectors_array=np.loadtxt('user_glove_vecs').view(float)\n",
    "\n",
    "with open(\"Pickle_Files/vec_word_list\", \"rb\") as fp:   # Unpickling\n",
    "    vec_word_list= pickle.load(fp)\n",
    "    \n",
    "with open(\"Pickle_Files/vec_total_tokens\", \"rb\") as fp:   # Unpickling\n",
    "    vec_total_tokens= pickle.load(fp)\n",
    "    \n",
    "filename = 'Pickle_Files/gl_model'\n",
    "glove_model = pickle.load(open(filename, 'rb'))"
   ]
  },
  {
   "cell_type": "code",
   "execution_count": 3,
   "metadata": {
    "collapsed": false
   },
   "outputs": [
    {
     "name": "stdout",
     "output_type": "stream",
     "text": [
      "CPU times: user 27.8 s, sys: 5.62 s, total: 33.4 s\n",
      "Wall time: 32.2 s\n"
     ]
    },
    {
     "data": {
      "text/plain": [
       "\"\\nTo load model: \\nfilename = 'Pickle_Files/KmeansModel'\\nloaded_model = pickle.load(open(filename, 'rb'))\""
      ]
     },
     "execution_count": 3,
     "metadata": {},
     "output_type": "execute_result"
    }
   ],
   "source": [
    "import pickle \n",
    "from sklearn.cluster import KMeans\n",
    "\n",
    "num_clusters = 20\n",
    "\n",
    "km = KMeans(n_clusters=num_clusters)\n",
    "\n",
    "%time km.fit(vectors_array)\n",
    "\n",
    "clusters = km.labels_.tolist()\n",
    "kmcenters=km.cluster_centers_\n",
    "pickle.dump(km,open('Pickle_Files/KmeansModel','wb'))\n",
    "\n",
    "\"\"\"\n",
    "To load model: \n",
    "filename = 'Pickle_Files/KmeansModel'\n",
    "loaded_model = pickle.load(open(filename, 'rb'))\"\"\""
   ]
  },
  {
   "cell_type": "code",
   "execution_count": 4,
   "metadata": {
    "collapsed": false
   },
   "outputs": [
    {
     "data": {
      "image/png": "[encoded data removed]",
      "text/plain": [
       "<matplotlib.figure.Figure at 0x10ba6ada0>"
      ]
     },
     "metadata": {},
     "output_type": "display_data"
    }
   ],
   "source": [
    "import matplotlib.pyplot as plt\n",
    "plt.hist(clusters)\n",
    "plt.show()"
   ]
  },
  {
   "cell_type": "code",
   "execution_count": 5,
   "metadata": {
    "collapsed": true
   },
   "outputs": [],
   "source": [
    "from scipy.spatial.distance import cdist\n",
    "\n",
    "Y=cdist(vectors_array,kmcenters,'cosine')"
   ]
  },
  {
   "cell_type": "code",
   "execution_count": 6,
   "metadata": {
    "collapsed": false
   },
   "outputs": [
    {
     "data": {
      "text/plain": [
       "['e.g.', 'beneficial', 'beneficial']"
      ]
     },
     "execution_count": 6,
     "metadata": {},
     "output_type": "execute_result"
    }
   ],
   "source": [
    "Z=np.argsort(Y,axis=0)\n",
    "wordlist=[vec_word_list[i] for i in Z[1000:1003,10].tolist()]\n",
    "wordlist"
   ]
  },
  {
   "cell_type": "code",
   "execution_count": 7,
   "metadata": {
    "collapsed": false
   },
   "outputs": [
    {
     "data": {
      "text/plain": [
       "['love',\n",
       " 'co',\n",
       " 'faith',\n",
       " 'government',\n",
       " 'gatekeeper',\n",
       " 'think',\n",
       " 'new',\n",
       " 'next',\n",
       " 'y',\n",
       " 'out',\n",
       " 'demonstrated',\n",
       " 'business',\n",
       " 'est',\n",
       " 'king',\n",
       " 'amp',\n",
       " 'thought',\n",
       " 'wrap',\n",
       " 's',\n",
       " 'understand',\n",
       " 'g']"
      ]
     },
     "execution_count": 7,
     "metadata": {},
     "output_type": "execute_result"
    }
   ],
   "source": [
    "[vec_word_list[i] for i in Z[0,:].tolist()]"
   ]
  },
  {
   "cell_type": "code",
   "execution_count": 12,
   "metadata": {
    "collapsed": false
   },
   "outputs": [
    {
     "data": {
      "text/plain": [
       "array([5], dtype=int32)"
      ]
     },
     "execution_count": 12,
     "metadata": {},
     "output_type": "execute_result"
    }
   ],
   "source": [
    "import numpy as np\n",
    "km.predict(np.asarray(glove_model['matter']).reshape(1,-1))"
   ]
  },
  {
   "cell_type": "code",
   "execution_count": 13,
   "metadata": {
    "collapsed": false
   },
   "outputs": [
    {
     "name": "stdout",
     "output_type": "stream",
     "text": [
      "Counter({5: 21424, 15: 13206, 1: 11033, 4: 10094, 7: 9917, 6: 9917, 18: 9713, 10: 9538, 11: 9442, 9: 9273, 3: 8700, 2: 8437, 16: 7946, 13: 7864, 14: 6211, 19: 6017, 0: 5808, 17: 4609, 8: 2813, 12: 1819})\n"
     ]
    },
    {
     "data": {
      "text/plain": [
       "array([ 0.05955586,  0.04384321,  0.06121107,  0.05026624,  0.02063734,\n",
       "        0.06421988,  0.06075063,  0.06260933,  0.02590751,  0.06301529,\n",
       "        0.04360504,  0.0581931 ,  0.00577878,  0.05705267,  0.04969409,\n",
       "        0.06302493,  0.05682048,  0.0454371 ,  0.06123338,  0.04714406])"
      ]
     },
     "execution_count": 13,
     "metadata": {},
     "output_type": "execute_result"
    }
   ],
   "source": [
    "from collections import Counter\n",
    "ct=Counter(clusters)\n",
    "print(ct)\n",
    "i=0\n",
    "weight=np.maximum(1-cdist(np.asarray([glove_model[word] for word in vec_total_tokens[i]]),kmcenters,'cosine'),0)\n",
    "w_topic=np.sum(weight,axis=0)\n",
    "prob_topic=w_topic/np.sum(w_topic)\n",
    "prob_topic"
   ]
  },
  {
   "cell_type": "code",
   "execution_count": 14,
   "metadata": {
    "collapsed": false
   },
   "outputs": [
    {
     "data": {
      "text/plain": [
       "['effectively',\n",
       " 'accomplice',\n",
       " 'throw',\n",
       " 'fucker',\n",
       " 'jail',\n",
       " 'look',\n",
       " 'back',\n",
       " 'co',\n",
       " 'pd',\n",
       " 'surprisingly',\n",
       " 'entertaining',\n",
       " 'ayah',\n",
       " 'unacknowledged',\n",
       " 'thank',\n",
       " 'excuse',\n",
       " 'frankness',\n",
       " 'look',\n",
       " 'lot',\n",
       " 'older',\n",
       " 'yr',\n",
       " 'age',\n",
       " 'pp',\n",
       " 'developed',\n",
       " 'country',\n",
       " 'uneducated',\n",
       " 'basic',\n",
       " 'science',\n",
       " 'utterly',\n",
       " 'cloud',\n",
       " 'formation',\n",
       " 'late',\n",
       " 'afternoon',\n",
       " 'co',\n",
       " 'bbc',\n",
       " 'bbcr',\n",
       " 'ado',\n",
       " 'head',\n",
       " 'sublime',\n",
       " 'indeed',\n",
       " 'say',\n",
       " 'pocket',\n",
       " 'say',\n",
       " 'manifold',\n",
       " 'fabric',\n",
       " 'space',\n",
       " 'time',\n",
       " 'velociraptor',\n",
       " 'assumption',\n",
       " 'required',\n",
       " 'provide',\n",
       " 'spade',\n",
       " 'noted',\n",
       " 'hitch',\n",
       " 'sadly',\n",
       " 'co',\n",
       " 'p',\n",
       " 'my',\n",
       " 'rid',\n",
       " 'abide',\n",
       " 'hope',\n",
       " 'prove',\n",
       " 'efficacious',\n",
       " 'lark',\n",
       " 'fact',\n",
       " 'support',\n",
       " 'emotional',\n",
       " 'frame',\n",
       " 'mind',\n",
       " 'rather',\n",
       " 'objective',\n",
       " 'reality',\n",
       " 'foundation',\n",
       " 'stone',\n",
       " 'religious',\n",
       " 'amp',\n",
       " 'truth',\n",
       " 'matter',\n",
       " 'feel',\n",
       " 'good',\n",
       " 'matter',\n",
       " 'true',\n",
       " 'saga',\n",
       " 'may',\n",
       " 'keg',\n",
       " 'inderdaad',\n",
       " 'abide',\n",
       " 'wine',\n",
       " 'intake',\n",
       " 'information',\n",
       " 'retention',\n",
       " 'suspect',\n",
       " 'non',\n",
       " 'creative',\n",
       " 'buy',\n",
       " 'please',\n",
       " 'creative',\n",
       " 'goodness',\n",
       " 'gorgeous',\n",
       " 'rash',\n",
       " 'jaw',\n",
       " 'fishmonger',\n",
       " 'man',\n",
       " 'frank',\n",
       " 'referring',\n",
       " 'religion',\n",
       " 'general',\n",
       " 'rash',\n",
       " 'jaw',\n",
       " 'fishmonger',\n",
       " 'man',\n",
       " 'frank',\n",
       " 'first',\n",
       " 'truly',\n",
       " 'glimpse',\n",
       " 'deep',\n",
       " 'beauty',\n",
       " 'reality',\n",
       " 'saddens',\n",
       " 'v',\n",
       " 'missed',\n",
       " 'education',\n",
       " 'regarding',\n",
       " 'abide',\n",
       " 'love',\n",
       " 'artist',\n",
       " 'massive',\n",
       " 'thank',\n",
       " 'link',\n",
       " 'remember',\n",
       " 'well',\n",
       " 'lad',\n",
       " 'girlfriend',\n",
       " 'never',\n",
       " 'heard',\n",
       " 'nearest',\n",
       " 'he',\n",
       " 'meisje',\n",
       " 'platen',\n",
       " 'kusje',\n",
       " 'graven',\n",
       " 'hi',\n",
       " 'thank',\n",
       " 'kind',\n",
       " 'soar',\n",
       " 'kind',\n",
       " 'say',\n",
       " 'thank',\n",
       " 'happens',\n",
       " 'graphic',\n",
       " 'designer',\n",
       " 'turned',\n",
       " 'science',\n",
       " 'technician',\n",
       " 'work',\n",
       " 'progress',\n",
       " 'co',\n",
       " 'done',\n",
       " 'thank',\n",
       " 'head',\n",
       " 'awareness',\n",
       " 'indeed',\n",
       " 'co',\n",
       " 'exactly',\n",
       " 'co',\n",
       " 'jock',\n",
       " 'cosmos',\n",
       " 'saga',\n",
       " 'web',\n",
       " 'choice',\n",
       " 'selfish',\n",
       " 'gene',\n",
       " 'wonderful',\n",
       " 'read',\n",
       " 'however',\n",
       " 'congrats',\n",
       " 'indeed',\n",
       " 'co',\n",
       " 'could',\n",
       " 'course',\n",
       " 'loulou',\n",
       " 'happens',\n",
       " 'also',\n",
       " 'seems',\n",
       " 'miss',\n",
       " 'still',\n",
       " 'co',\n",
       " 'elf',\n",
       " 'pair',\n",
       " 'yet',\n",
       " 'find',\n",
       " 'flat',\n",
       " 'provide',\n",
       " 'photo',\n",
       " 'edge',\n",
       " 'hi',\n",
       " 'phi',\n",
       " 'opinion',\n",
       " 'whether',\n",
       " 'gr',\n",
       " 'co',\n",
       " 'pp',\n",
       " 'saggy',\n",
       " 'actually',\n",
       " 'work',\n",
       " 'would',\n",
       " 'appreciated',\n",
       " 'storm',\n",
       " 'cloud',\n",
       " 'viewed',\n",
       " 'para',\n",
       " 'sand',\n",
       " 'co',\n",
       " 'still',\n",
       " 'lived',\n",
       " 'say',\n",
       " 'yes',\n",
       " 'hope',\n",
       " 'prof',\n",
       " 'doable',\n",
       " 'btw',\n",
       " 'would',\n",
       " 'fantastic',\n",
       " 'asset',\n",
       " 'back',\n",
       " 'forming',\n",
       " 'storm',\n",
       " 'cloud',\n",
       " 'viewed',\n",
       " 'para',\n",
       " 'sand',\n",
       " 'co',\n",
       " 'n',\n",
       " 'storm',\n",
       " 'cloud',\n",
       " 'viewed',\n",
       " 'para',\n",
       " 'sand',\n",
       " 'yesterday',\n",
       " 'bbcs',\n",
       " 'spotlight',\n",
       " 'co',\n",
       " 'n',\n",
       " 'storm',\n",
       " 'caused',\n",
       " 'chaos',\n",
       " 'lizard',\n",
       " 'peninsula',\n",
       " 'yesterday',\n",
       " 'co',\n",
       " 'n',\n",
       " 'taken',\n",
       " 'para',\n",
       " 'sand',\n",
       " 'ukw',\n",
       " 'hhhhhm',\n",
       " 'mostly',\n",
       " 'east',\n",
       " 'co',\n",
       " 'n',\n",
       " 'co',\n",
       " 'yin',\n",
       " 'lucky',\n",
       " 'ism',\n",
       " 'tom',\n",
       " 'cloud',\n",
       " 'lizard',\n",
       " 'et',\n",
       " 'la',\n",
       " 'co',\n",
       " 'n',\n",
       " 'everywhere',\n",
       " 'except',\n",
       " 'usa',\n",
       " 'trust',\n",
       " 'yank',\n",
       " 'fuck',\n",
       " 'usa',\n",
       " 'time',\n",
       " 'otherwise',\n",
       " 'make',\n",
       " 'finally',\n",
       " 'attempting',\n",
       " 'gr',\n",
       " 'durst',\n",
       " 'pseudo',\n",
       " 'maybe',\n",
       " 'co',\n",
       " 'co',\n",
       " 'lush',\n",
       " 'yo']"
      ]
     },
     "execution_count": 14,
     "metadata": {},
     "output_type": "execute_result"
    }
   ],
   "source": [
    "vec_total_tokens[0]"
   ]
  },
  {
   "cell_type": "code",
   "execution_count": 15,
   "metadata": {
    "collapsed": false
   },
   "outputs": [
    {
     "data": {
      "text/plain": [
       "array([18, 15,  8,  3, 17, 22,  7, 12,  5, 14, 21, 26,  3, 12,  8, 17, 16,\n",
       "        6, 38])"
      ]
     },
     "execution_count": 15,
     "metadata": {},
     "output_type": "execute_result"
    }
   ],
   "source": [
    "clust_list=[]\n",
    "start_ind=0\n",
    "for i in range(len(vec_total_tokens)):\n",
    "    l=len(vec_total_tokens[i])\n",
    "    fin=start_ind+l\n",
    "    clust_list.append(clusters[start_ind:fin])\n",
    "    start_in=finclust_freq_dict=[]\n",
    "    \n",
    "clust_freq_dict=[]\n",
    "for i in range(len(clust_list)):\n",
    "    clust_freq_dict.append(Counter(clust_list[i]))\n",
    "f,_=np.histogram(clust_list[2],bins=np.array(range(20)))\n",
    "f"
   ]
  },
  {
   "cell_type": "code",
   "execution_count": 16,
   "metadata": {
    "collapsed": false
   },
   "outputs": [
    {
     "data": {
      "text/plain": [
       "['love',\n",
       " 'co',\n",
       " 'faith',\n",
       " 'government',\n",
       " 'gatekeeper',\n",
       " 'think',\n",
       " 'new',\n",
       " 'next',\n",
       " 'y',\n",
       " 'out',\n",
       " 'demonstrated',\n",
       " 'business',\n",
       " 'est',\n",
       " 'king',\n",
       " 'amp',\n",
       " 'thought',\n",
       " 'wrap',\n",
       " 's',\n",
       " 'understand',\n",
       " 'g']"
      ]
     },
     "execution_count": 16,
     "metadata": {},
     "output_type": "execute_result"
    }
   ],
   "source": [
    "[vec_word_list[i] for i in Z[0,:].tolist()]"
   ]
  },
  {
   "cell_type": "code",
   "execution_count": null,
   "metadata": {
    "collapsed": true
   },
   "outputs": [],
   "source": []
  }
 ],
 "metadata": {
  "kernelspec": {
   "display_name": "Python 3",
   "language": "python",
   "name": "python3"
  },
  "language_info": {
   "codemirror_mode": {
    "name": "ipython",
    "version": 3
   },
   "file_extension": ".py",
   "mimetype": "text/x-python",
   "name": "python",
   "nbconvert_exporter": "python",
   "pygments_lexer": "ipython3",
   "version": "3.6.0"
  }
 },
 "nbformat": 4,
 "nbformat_minor": 2
}
