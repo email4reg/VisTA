{
 "cells": [
  {
   "cell_type": "code",
   "execution_count": 1,
   "metadata": {
    "collapsed": true
   },
   "outputs": [],
   "source": [
    "def loadGloveModel(gloveFile):\n",
    "    print(\"Loading Glove Model\")\n",
    "    f = open(gloveFile,'r')\n",
    "    model = {}\n",
    "    for line in f:\n",
    "        splitLine = line.split()\n",
    "        word = splitLine[0]\n",
    "        embedding = [float(val) for val in splitLine[1:]]\n",
    "        model[word] = embedding\n",
    "    print(\"Done.\",len(model),\" words loaded!\")\n",
    "    return model"
   ]
  },
  {
   "cell_type": "code",
   "execution_count": 2,
   "metadata": {
    "collapsed": false
   },
   "outputs": [
    {
     "name": "stdout",
     "output_type": "stream",
     "text": [
      "Loading Glove Model\n",
      "Done. 1193514  words loaded!\n",
      "[-0.77069, 0.12827, 0.33137, 0.0050893, -0.47605, -0.50116, 1.858, 1.0624, -0.56511, 0.13328, -0.41918, -0.14195, -2.8555, -0.57131, -0.13418, -0.44922, 0.48591, -0.6479, -0.84238, 0.61669, -0.19824, -0.57967, -0.65885, 0.43928, -0.50473]\n"
     ]
    }
   ],
   "source": [
    "glf=\"../GloVe/glove.twitter.27B/glove.twitter.27B.25d.txt\"\n",
    "glove_model=loadGloveModel(glf)\n",
    "print(glove_model[\"hello\"])"
   ]
  },
  {
   "cell_type": "code",
   "execution_count": 3,
   "metadata": {
    "collapsed": true
   },
   "outputs": [],
   "source": [
    "import pickle\n",
    "with open(\"preprocessed_user2.txt\", \"rb\") as fp:   # Unpickling\n",
    "    total_tokens_loaded= pickle.load(fp)"
   ]
  },
  {
   "cell_type": "code",
   "execution_count": 15,
   "metadata": {
    "collapsed": false
   },
   "outputs": [],
   "source": [
    "import pickle\n",
    "import os\n",
    "import numpy as np\n",
    "vectors=[]\n",
    "vec_word_list=[]\n",
    "vec_total_tokens=[]\n",
    "\n",
    "for doc in total_tokens_loaded: \n",
    "\n",
    "        \n",
    "    clean=[word for word in doc if word in glove_model]\n",
    "    #print(str(100*len(clean)/len(doc))+ '% words have glove entries.')\n",
    "           #print(type(model.vocab.keys()))\n",
    "    #count1=0\n",
    "    for word in clean: \n",
    "            #print(word)\n",
    "            \n",
    "            #if word in list(model.vocab.keys()) and count1<4: \n",
    "                #vectors=np.array([vectors,model[word]])\n",
    "        vectors.append(glove_model[word])\n",
    "        vec_word_list.append(word)\n",
    "               \n",
    "        #print('yay')\n",
    "        #count=count+1\n",
    "    vec_total_tokens.append(clean)\n",
    "    \n",
    "#os.chdir('..')\n",
    "vectors_array=np.asarray(vectors)\n",
    "np.savetxt('user_glove_vecs',vectors_array.view(float))"
   ]
  },
  {
   "cell_type": "code",
   "execution_count": 22,
   "metadata": {
    "collapsed": true
   },
   "outputs": [],
   "source": [
    "import pickle\n",
    "with open('Pickle_Files/vec_word_list', 'wb') as fp:\n",
    "    pickle.dump(vec_word_list, fp)\n",
    "with open('Pickle_Files/vec_total_tokens', 'wb') as fp:\n",
    "    pickle.dump(vec_total_tokens, fp)"
   ]
  },
  {
   "cell_type": "code",
   "execution_count": 21,
   "metadata": {
    "collapsed": true
   },
   "outputs": [],
   "source": [
    "import pickle \n",
    "pickle.dump(glove_model,open('Pickle_Files/gl_model','wb'))"
   ]
  },
  {
   "cell_type": "code",
   "execution_count": null,
   "metadata": {
    "collapsed": true
   },
   "outputs": [],
   "source": []
  }
 ],
 "metadata": {
  "kernelspec": {
   "display_name": "Python 3",
   "language": "python",
   "name": "python3"
  },
  "language_info": {
   "codemirror_mode": {
    "name": "ipython",
    "version": 3
   },
   "file_extension": ".py",
   "mimetype": "text/x-python",
   "name": "python",
   "nbconvert_exporter": "python",
   "pygments_lexer": "ipython3",
   "version": "3.6.0"
  }
 },
 "nbformat": 4,
 "nbformat_minor": 2
}
