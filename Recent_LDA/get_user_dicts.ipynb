{
 "cells": [
  {
   "cell_type": "code",
   "execution_count": 1,
   "metadata": {
    "collapsed": false
   },
   "outputs": [
    {
     "name": "stdout",
     "output_type": "stream",
     "text": [
      "{'Legalization of Abortion': [], 'Climate Change is a Real Concern': [], 'Hillary Clinton': [], 'Feminist Movement': [], 'Atheism': ['AGAINST', 'AGAINST', 'AGAINST', 'AGAINST', 'AGAINST', 'AGAINST']}\n"
     ]
    }
   ],
   "source": [
    "import numpy as np\n",
    "import pickle \n",
    "def get_data_dict(data_f):\n",
    "    \"\"\"\n",
    "    Load the data from file and seperate into train/tune/test sets\n",
    "\n",
    "    Output format is a dictionary that maps tweet ids to (stance, tweet) tuples.\n",
    "    Note that stance is the gold label (what is to be predicted).\n",
    "    \"\"\"\n",
    "\n",
    "    train = {}\n",
    "    test = {}\n",
    "    user_dict_total={}\n",
    "    user_dict_train={}\n",
    "    user_dict_test={}\n",
    "    targets=[\"Legalization of Abortion\",\"Climate Change is a Real Concern\",\"Hillary Clinton\",\"Feminist Movement\",\"Atheism\"]\n",
    "    # Load data from file\n",
    "    # It has already been split into testing and training data\n",
    "    with open(data_f,'r',encoding='latin-1') as f:\n",
    "        for l_count, line in enumerate(f):\n",
    "            if l_count == 0:\n",
    "                continue\n",
    "            tid, user, test_train, target, stance, tweet = line.strip().split(\"\\t\")\n",
    "            if user not in user_dict_total: \n",
    "                    user_dict_total[user]={}\n",
    "                    for target1 in targets: \n",
    "                        user_dict_total[user][target1]=[]\n",
    "            user_dict_total[user][target].append(stance)\n",
    "            if test_train ==\"train\": \n",
    "                if user not in user_dict_train:\n",
    "                    user_dict_train[user]={}\n",
    "                    for target1 in targets: \n",
    "                        user_dict_train[user][target1]=[]\n",
    "                \n",
    "                user_dict_train[user][target].append(stance)\n",
    "            if test_train ==\"test\": \n",
    "                if user not in user_dict_test:\n",
    "                    user_dict_test[user]={}\n",
    "                    for target1 in targets: \n",
    "                        user_dict_test[user][target1]=[]\n",
    "\n",
    "                \n",
    "                user_dict_test[user][target].append(stance) \n",
    "            \n",
    "\n",
    "    return user_dict_train, user_dict_test, user_dict_total\n",
    "\n",
    "#data_f =os.path.abspath('datacopy.tsv')\n",
    "#data_f =os.path.abspath('data/dataset.tsv')\n",
    "\n",
    "data_f='../stance/datacopy.tsv'\n",
    "\n",
    "user_dict_train, user_dict_test, user_dict_total=get_data_dict(data_f)\n",
    "\n",
    "print(user_dict_train['15335491'])\n",
    "with open('Pickle_Files/user_dict_train.pickle', 'wb') as handle:\n",
    "    pickle.dump(user_dict_train, handle, protocol=pickle.HIGHEST_PROTOCOL)\n",
    "with open('Pickle_Files/user_dict_test.pickle', 'wb') as handle1:\n",
    "    pickle.dump(user_dict_test, handle1, protocol=pickle.HIGHEST_PROTOCOL)\n",
    "with open('Pickle_Files/user_dict_total.pickle', 'wb') as handle2:\n",
    "    pickle.dump(user_dict_total, handle2, protocol=pickle.HIGHEST_PROTOCOL)"
   ]
  },
  {
   "cell_type": "code",
   "execution_count": null,
   "metadata": {
    "collapsed": true
   },
   "outputs": [],
   "source": []
  }
 ],
 "metadata": {
  "kernelspec": {
   "display_name": "Python 3",
   "language": "python",
   "name": "python3"
  },
  "language_info": {
   "codemirror_mode": {
    "name": "ipython",
    "version": 3
   },
   "file_extension": ".py",
   "mimetype": "text/x-python",
   "name": "python",
   "nbconvert_exporter": "python",
   "pygments_lexer": "ipython3",
   "version": "3.6.0"
  }
 },
 "nbformat": 4,
 "nbformat_minor": 2
}
