{
 "cells": [
  {
   "cell_type": "code",
   "execution_count": 1,
   "metadata": {
    "collapsed": false
   },
   "outputs": [
    {
     "name": "stdout",
     "output_type": "stream",
     "text": [
      "705\n",
      "['100306237', '1005383936', '1009689475', '1017189240', '104048643', '1049020446', '1050455592', '105498404', '1057244852']\n",
      "173781\n",
      "705\n"
     ]
    }
   ],
   "source": [
    "#importing relevant files \n",
    "import pickle\n",
    "import re\n",
    "import numpy as np\n",
    "with open ('Pickle_Files/user_filepaths', 'rb') as fp:\n",
    "    filepaths = pickle.load(fp)\n",
    "print(len(filepaths))\n",
    "users=[re.sub(r'\\.txt$','',filename) for filename in filepaths]\n",
    "print(users[0:9])\n",
    "\n",
    "with open(\"Pickle_Files/preprocessed_user2.txt\", \"rb\") as fp:   # Unpickling\n",
    "    total_tokens_loaded= pickle.load(fp)\n",
    "vectors_array=np.loadtxt('user_glove_vecs').view(float)\n",
    "print(len(vectors_array))\n",
    "print(len(total_tokens_loaded))"
   ]
  },
  {
   "cell_type": "code",
   "execution_count": 2,
   "metadata": {
    "collapsed": false
   },
   "outputs": [],
   "source": [
    "#creating/importing dictionary and corpus\n",
    "import gensim \n",
    "from gensim import corpora,models,similarities\n",
    "\n",
    "\"\"\"\n",
    "To create from scratch: \n",
    "dictionary=corpora.Dictionary(total_tokens_loaded)\n",
    "dictionary.save_as_text('gensim_dict')\n",
    "corpora.MmCorpus.serialize('lda_test2.mm', corpus)\"\"\"\n",
    "\n",
    "dictionary=corpora.Dictionary.load_from_text('gensim_dict')\n",
    "corpus=[dictionary.doc2bow(text) for text in total_tokens_loaded]\n",
    "mm = corpora.MmCorpus('lda_test2.mm')\n"
   ]
  },
  {
   "cell_type": "code",
   "execution_count": 3,
   "metadata": {
    "collapsed": false
   },
   "outputs": [
    {
     "data": {
      "text/plain": [
       "\"lda = gensim.models.ldamodel.LdaModel(corpus=mm, id2word=dictionary, num_topics=10, update_every=1, chunksize=10, passes=1)\\nlda.save('LDA_model')\""
      ]
     },
     "execution_count": 3,
     "metadata": {},
     "output_type": "execute_result"
    }
   ],
   "source": [
    "#running and saving model \n",
    "\"\"\"lda = gensim.models.ldamodel.LdaModel(corpus=mm, id2word=dictionary, num_topics=10, update_every=1, chunksize=10, passes=1)\n",
    "lda.save('LDA_model')\"\"\""
   ]
  },
  {
   "cell_type": "code",
   "execution_count": 4,
   "metadata": {
    "collapsed": false
   },
   "outputs": [
    {
     "data": {
      "text/plain": [
       "[(0,\n",
       "  '0.024*\"co\" + 0.013*\"follow\" + 0.011*\"connecting\" + 0.008*\"Canada\" + 0.007*\"fucking\" + 0.005*\"school\" + 0.005*\"remember\" + 0.005*\"statement\" + 0.005*\"mission\" + 0.005*\"wt\"'),\n",
       " (1,\n",
       "  '0.012*\"free\" + 0.009*\"ever\" + 0.008*\"co\" + 0.007*\"twitter\" + 0.006*\"could\" + 0.006*\"cot\" + 0.005*\"photo\" + 0.005*\"going\" + 0.005*\"ii\" + 0.005*\"job\"'),\n",
       " (2,\n",
       "  '0.193*\"co\" + 0.021*\"via\" + 0.012*\"catholic\" + 0.011*\"profile\" + 0.007*\"la\" + 0.007*\"smiler\" + 0.006*\"syromalabar\" + 0.006*\"faith\" + 0.006*\"f\" + 0.006*\"digitalkalyan\"'),\n",
       " (3,\n",
       "  '0.009*\"ward\" + 0.009*\"climate change\" + 0.006*\"goggle\" + 0.006*\"red\" + 0.005*\"gustavorejivik\" + 0.005*\"_tmf\" + 0.005*\"brandonrgates\" + 0.005*\"friends\\'\" + 0.005*\"drwaheeduddin\" + 0.005*\"eddarrell\"'),\n",
       " (4,\n",
       "  '0.013*\"you tube\" + 0.006*\"followed\" + 0.005*\"co\" + 0.005*\"revolution\" + 0.005*\"syromalabar\" + 0.005*\"thechucknellis\" + 0.004*\"checked\" + 0.004*\"digitalkalyan\" + 0.004*\"pastor\" + 0.004*\"indiancatholic\"'),\n",
       " (5,\n",
       "  '0.052*\"Jesus\" + 0.042*\"god\" + 0.020*\"bible\" + 0.014*\"scripture\" + 0.011*\"Christianity\" + 0.011*\"flt\" + 0.009*\"prayer\" + 0.008*\"lord\" + 0.008*\"bible study\" + 0.007*\"name\"'),\n",
       " (6,\n",
       "  '0.015*\"people\" + 0.012*\"one\" + 0.012*\"life\" + 0.012*\"love\" + 0.009*\"like\" + 0.009*\"co\" + 0.009*\"good\" + 0.008*\"thing\" + 0.008*\"make\" + 0.007*\"know\"'),\n",
       " (7,\n",
       "  '0.020*\"co\" + 0.017*\"trump\" + 0.016*\"amp\" + 0.009*\"white\" + 0.009*\"realdonaldtrump\" + 0.007*\"video\" + 0.006*\"right\" + 0.006*\"hate\" + 0.005*\"totally\" + 0.005*\"pouts\"'),\n",
       " (8,\n",
       "  '0.008*\"mufti\" + 0.006*\"Albert\" + 0.006*\"Kemp\" + 0.005*\"keep smile\" + 0.005*\"mriahajzer\" + 0.005*\"fnnyfer\" + 0.005*\"montimai\" + 0.005*\"Lutz\" + 0.005*\"orioles rule\" + 0.005*\"andreasdefconi\"'),\n",
       " (9,\n",
       "  '0.124*\"co\" + 0.009*\"thanks\" + 0.008*\"lug\" + 0.007*\"connect\" + 0.006*\"night\" + 0.005*\"kc\" + 0.005*\"new\" + 0.005*\"morning\" + 0.004*\"r\" + 0.004*\"p\"')]"
      ]
     },
     "execution_count": 4,
     "metadata": {},
     "output_type": "execute_result"
    }
   ],
   "source": [
    "#reloading model\n",
    "lda =  models.LdaModel.load('LDA_model')\n",
    "lda.print_topics(10)"
   ]
  },
  {
   "cell_type": "code",
   "execution_count": 5,
   "metadata": {
    "collapsed": true
   },
   "outputs": [],
   "source": [
    "prob_topic=lda.get_document_topics(mm,minimum_probability=.1)"
   ]
  },
  {
   "cell_type": "code",
   "execution_count": 6,
   "metadata": {
    "collapsed": false
   },
   "outputs": [
    {
     "data": {
      "text/plain": [
       "[(1, 0.34540814997381503), (4, 0.17996004861790998), (6, 0.13467681019016303)]"
      ]
     },
     "execution_count": 6,
     "metadata": {},
     "output_type": "execute_result"
    }
   ],
   "source": [
    "prob_topic[0]\n",
    "# not too convenient for matrix manipulations"
   ]
  },
  {
   "cell_type": "code",
   "execution_count": 7,
   "metadata": {
    "collapsed": false
   },
   "outputs": [
    {
     "data": {
      "text/plain": [
       "array([ 0.05408934,  0.34540787,  0.09592673,  0.01283011,  0.17995891,\n",
       "        0.08252177,  0.13467666,  0.02459676,  0.04408647,  0.02590539])"
      ]
     },
     "execution_count": 7,
     "metadata": {},
     "output_type": "execute_result"
    }
   ],
   "source": [
    "#creating normtheta\n",
    "import numpy as np\n",
    "from numpy import linalg as LA\n",
    "\n",
    "gamma,_=lda.inference(mm)\n",
    "\n",
    "### Need to normalize gamma\n",
    "\n",
    "norm=gamma.sum(axis=1)\n",
    "l=np.shape(norm)[0]\n",
    "normtheta=gamma/norm.reshape(l,1)\n",
    "\n",
    "normtheta[0,:]\n",
    "\n",
    "# See it matches prob_topic"
   ]
  },
  {
   "cell_type": "code",
   "execution_count": 8,
   "metadata": {
    "collapsed": true
   },
   "outputs": [],
   "source": [
    "#jensen-shannon\n",
    "import scipy.stats as scst\n",
    "\n",
    "def jsd(P,Q):\n",
    "    M=(P+Q)/2\n",
    "    return (scst.entropy(P,M)+scst.entropy(Q,M))/2\n",
    "def jsd_mat(prob_mat):\n",
    "    ndoc=np.shape(prob_mat)[0]\n",
    "    jsdist=np.zeros((ndoc,ndoc))\n",
    "    for i in range(ndoc):\n",
    "        for j in range(ndoc):\n",
    "            jsdist[i,j]=jsd(prob_mat[i,:],prob_mat[j,:])\n",
    "    return jsdist"
   ]
  },
  {
   "cell_type": "code",
   "execution_count": 9,
   "metadata": {
    "collapsed": false
   },
   "outputs": [
    {
     "data": {
      "text/plain": [
       "\"dist_user=np.sqrt(2*jsd_mat(normtheta))\\nimport numpy as np\\nnp.savetxt('dist_user',dist_user.view(float))\""
      ]
     },
     "execution_count": 9,
     "metadata": {},
     "output_type": "execute_result"
    }
   ],
   "source": [
    "#creating&saving user dist \n",
    "\"\"\"dist_user=np.sqrt(2*jsd_mat(normtheta))\n",
    "import numpy as np\n",
    "np.savetxt('dist_user',dist_user.view(float))\"\"\""
   ]
  },
  {
   "cell_type": "code",
   "execution_count": 10,
   "metadata": {
    "collapsed": true
   },
   "outputs": [],
   "source": [
    "#loading dist_user\n",
    "import numpy as np\n",
    "dist_user=np.loadtxt('dist_user').view(float)"
   ]
  },
  {
   "cell_type": "code",
   "execution_count": 11,
   "metadata": {
    "collapsed": false
   },
   "outputs": [
    {
     "name": "stdout",
     "output_type": "stream",
     "text": [
      "705\n"
     ]
    }
   ],
   "source": [
    "print(len(total_tokens_loaded))"
   ]
  },
  {
   "cell_type": "code",
   "execution_count": 12,
   "metadata": {
    "collapsed": true
   },
   "outputs": [],
   "source": [
    "import pickle \n",
    "with open('Pickle_Files/user_dict_train.pickle', 'rb') as handle:\n",
    "    user_dict_train = pickle.load(handle)\n",
    "with open('Pickle_Files/user_dict_test.pickle', 'rb') as handle1:\n",
    "    user_dict_test = pickle.load(handle1)\n",
    "with open('Pickle_Files/user_dict_total.pickle', 'rb') as handle2:\n",
    "    user_dict_total = pickle.load(handle2)"
   ]
  },
  {
   "cell_type": "code",
   "execution_count": 13,
   "metadata": {
    "collapsed": false
   },
   "outputs": [
    {
     "data": {
      "text/plain": [
       "{'Atheism': {'AGAINST': 120, 'FAVOR': 22, 'NONE': 22},\n",
       " 'Climate Change is a Real Concern': {'AGAINST': 1, 'FAVOR': 66, 'NONE': 22},\n",
       " 'Feminist Movement': {'AGAINST': 90, 'FAVOR': 41, 'NONE': 36},\n",
       " 'Hillary Clinton': {'AGAINST': 129, 'FAVOR': 22, 'NONE': 24},\n",
       " 'Legalization of Abortion': {'AGAINST': 115, 'FAVOR': 16, 'NONE': 41}}"
      ]
     },
     "execution_count": 13,
     "metadata": {},
     "output_type": "execute_result"
    }
   ],
   "source": [
    "#user statistics\n",
    "targets=['Legalization of Abortion', 'Climate Change is a Real Concern','Hillary Clinton','Feminist Movement','Atheism']\n",
    "stances=['AGAINST','NONE','FAVOR']\n",
    "count_topic_users={}\n",
    "for target in targets:\n",
    "    count_topic_users[target]={}\n",
    "    for stance in stances:\n",
    "        count_topic_users[target][stance]=0\n",
    "#print(count_topic_users)\n",
    "\n",
    "for user in user_dict_total: \n",
    "    if user in users:\n",
    "        for i in range(len(targets)):\n",
    "            #if len(user_dict_total[user][targets[i]])>0:\n",
    "                #count_topic_users[targets[i]]+=1\n",
    "                for j in range(len(stances)):\n",
    "                    if stances[j] in user_dict_total[user][targets[i]]:\n",
    "                        count_topic_users[targets[i]][stances[j]]+=1\n",
    "                   \n",
    "count_topic_users"
   ]
  }
 ],
 "metadata": {
  "kernelspec": {
   "display_name": "Python 3",
   "language": "python",
   "name": "python3"
  },
  "language_info": {
   "codemirror_mode": {
    "name": "ipython",
    "version": 3
   },
   "file_extension": ".py",
   "mimetype": "text/x-python",
   "name": "python",
   "nbconvert_exporter": "python",
   "pygments_lexer": "ipython3",
   "version": "3.6.0"
  }
 },
 "nbformat": 4,
 "nbformat_minor": 2
}
